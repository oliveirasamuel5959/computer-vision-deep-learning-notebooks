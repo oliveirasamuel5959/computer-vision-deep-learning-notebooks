{
 "cells": [
  {
   "cell_type": "markdown",
   "metadata": {
    "id": "MliuNBCjoR7y"
   },
   "source": [
    "### Import Required Libraries\n",
    "---"
   ]
  },
  {
   "cell_type": "code",
   "execution_count": 32,
   "metadata": {
    "executionInfo": {
     "elapsed": 962,
     "status": "ok",
     "timestamp": 1755714533194,
     "user": {
      "displayName": "samuel patricio",
      "userId": "02135325113868995208"
     },
     "user_tz": 180
    },
    "id": "pWnADlWUYHw_"
   },
   "outputs": [],
   "source": [
    "import os\n",
    "import random\n",
    "import time\n",
    "import platform\n",
    "import requests\n",
    "\n",
    "import numpy as np\n",
    "import matplotlib.pyplot as plt\n",
    "import seaborn as sns\n",
    "from tqdm import tqdm\n",
    "from sklearn import metrics\n",
    "from PIL import Image\n",
    "\n",
    "import torch\n",
    "import torch.nn.functional as F\n",
    "from torch import nn, optim\n",
    "\n",
    "from torch.optim import lr_scheduler\n",
    "\n",
    "from torchvision import transforms, models, datasets, utils"
   ]
  },
  {
   "cell_type": "markdown",
   "metadata": {
    "id": "RXC8eOCYoVvb"
   },
   "source": [
    "### Work in Colab or Local"
   ]
  },
  {
   "cell_type": "code",
   "execution_count": null,
   "metadata": {
    "colab": {
     "base_uri": "https://localhost:8080/"
    },
    "executionInfo": {
     "elapsed": 22772,
     "status": "ok",
     "timestamp": 1755712314190,
     "user": {
      "displayName": "samuel patricio",
      "userId": "02135325113868995208"
     },
     "user_tz": 180
    },
    "id": "HHb8ZsbxgOaP",
    "outputId": "eb92e731-cab7-4d79-c7cd-824cb035ce8b"
   },
   "outputs": [
    {
     "name": "stdout",
     "output_type": "stream",
     "text": [
      "True\n",
      "Mounted at /content/drive\n"
     ]
    }
   ],
   "source": [
    "try:\n",
    "  import google.colab\n",
    "  IN_COLAB = True\n",
    "except:\n",
    "  IN_COLAB = False\n",
    "\n",
    "# Debug\n",
    "print(IN_COLAB)\n",
    "if IN_COLAB:\n",
    "  model_path = '/content/drive/My Drive/exp-fer_p3_01/'\n",
    "  from google.colab import drive\n",
    "  drive.mount('/content/drive')"
   ]
  },
  {
   "cell_type": "markdown",
   "metadata": {
    "id": "s22XDMrAobkR"
   },
   "source": [
    "### Model Architectures\n",
    "---"
   ]
  },
  {
   "cell_type": "code",
   "execution_count": 4,
   "metadata": {
    "colab": {
     "base_uri": "https://localhost:8080/"
    },
    "executionInfo": {
     "elapsed": 24,
     "status": "ok",
     "timestamp": 1755712318003,
     "user": {
      "displayName": "samuel patricio",
      "userId": "02135325113868995208"
     },
     "user_tz": 180
    },
    "id": "hyEHyqEbMQHd",
    "outputId": "c5a7d4e7-0664-4cb0-c633-97d2c8832b38"
   },
   "outputs": [
    {
     "name": "stdout",
     "output_type": "stream",
     "text": [
      "\n",
      "Device: cuda\n"
     ]
    }
   ],
   "source": [
    "device = torch.device('cuda' if torch.cuda.is_available() else 'cpu')\n",
    "print('\\nDevice: {0}'.format(device))"
   ]
  },
  {
   "cell_type": "markdown",
   "metadata": {
    "id": "VWZqVGNbogkp"
   },
   "source": [
    "### Model Architecture Definition\n",
    "---"
   ]
  },
  {
   "cell_type": "code",
   "execution_count": 5,
   "metadata": {
    "colab": {
     "base_uri": "https://localhost:8080/"
    },
    "executionInfo": {
     "elapsed": 773,
     "status": "ok",
     "timestamp": 1755712319365,
     "user": {
      "displayName": "samuel patricio",
      "userId": "02135325113868995208"
     },
     "user_tz": 180
    },
    "id": "w2xYZvJqZE2M",
    "outputId": "5e4b483a-b3a6-4a0e-b463-12b437972317"
   },
   "outputs": [
    {
     "name": "stderr",
     "output_type": "stream",
     "text": [
      "/usr/local/lib/python3.12/dist-packages/torchvision/models/_utils.py:208: UserWarning: The parameter 'pretrained' is deprecated since 0.13 and may be removed in the future, please use 'weights' instead.\n",
      "  warnings.warn(\n",
      "/usr/local/lib/python3.12/dist-packages/torchvision/models/_utils.py:223: UserWarning: Arguments other than a weight enum or `None` for 'weights' are deprecated since 0.13 and may be removed in the future. The current behavior is equivalent to passing `weights=ResNet18_Weights.IMAGENET1K_V1`. You can also use `weights=ResNet18_Weights.DEFAULT` to get the most up-to-date weights.\n",
      "  warnings.warn(msg)\n"
     ]
    },
    {
     "name": "stdout",
     "output_type": "stream",
     "text": [
      "Downloading: \"https://download.pytorch.org/models/resnet18-f37072fd.pth\" to /root/.cache/torch/hub/checkpoints/resnet18-f37072fd.pth\n"
     ]
    },
    {
     "name": "stderr",
     "output_type": "stream",
     "text": [
      "100%|██████████| 44.7M/44.7M [00:00<00:00, 174MB/s]\n"
     ]
    }
   ],
   "source": [
    "ARCH_NAME = 'resnet18'\n",
    "\n",
    "if ARCH_NAME == 'simplenet':\n",
    "    # Simple net\n",
    "    model = Net(3, 5)\n",
    "\n",
    "elif ARCH_NAME == 'alexnet':\n",
    "    # Pretrainned\n",
    "    model = models.alexnet(weights='AlexNet_Weights.DEFAULT')\n",
    "    ### model = models.alexnet(weights='AlexNet_Weights.IMAGENET1K_V1')\n",
    "    # Changes the number of neurons in the output layer.\n",
    "    num_ftrs = model.classifier[6].in_features\n",
    "    model.classifier[6] = nn.Linear(num_ftrs, 5)\n",
    "\n",
    "elif ARCH_NAME == 'resnet18':\n",
    "    model = models.resnet18(pretrained=True).to(device)\n",
    "\n",
    "    num_ftrs = model.fc.in_features\n",
    "    model.fc = nn.Linear(num_ftrs, 5).to(device)\n",
    "\n",
    "elif ARCH_NAME == 'mobilenetv2':\n",
    "    model = CustomMobileNetv2(output_size=5).to(device)\n",
    "\n",
    "# Include more architectures...\n",
    "# ---\n",
    "### elif ARCH_NAME == ..."
   ]
  },
  {
   "cell_type": "markdown",
   "metadata": {
    "id": "oQ79bLjMonlX"
   },
   "source": [
    "### Load Model From Path\n",
    "---"
   ]
  },
  {
   "cell_type": "code",
   "execution_count": null,
   "metadata": {
    "colab": {
     "base_uri": "https://localhost:8080/"
    },
    "executionInfo": {
     "elapsed": 5816,
     "status": "ok",
     "timestamp": 1755712326556,
     "user": {
      "displayName": "samuel patricio",
      "userId": "02135325113868995208"
     },
     "user_tz": 180
    },
    "id": "Y54vGXLTMl-Q",
    "outputId": "fd93596e-1a21-4850-99ff-9b7ce3fb2077"
   },
   "outputs": [
    {
     "data": {
      "text/plain": [
       "ResNet(\n",
       "  (conv1): Conv2d(3, 64, kernel_size=(7, 7), stride=(2, 2), padding=(3, 3), bias=False)\n",
       "  (bn1): BatchNorm2d(64, eps=1e-05, momentum=0.1, affine=True, track_running_stats=True)\n",
       "  (relu): ReLU(inplace=True)\n",
       "  (maxpool): MaxPool2d(kernel_size=3, stride=2, padding=1, dilation=1, ceil_mode=False)\n",
       "  (layer1): Sequential(\n",
       "    (0): BasicBlock(\n",
       "      (conv1): Conv2d(64, 64, kernel_size=(3, 3), stride=(1, 1), padding=(1, 1), bias=False)\n",
       "      (bn1): BatchNorm2d(64, eps=1e-05, momentum=0.1, affine=True, track_running_stats=True)\n",
       "      (relu): ReLU(inplace=True)\n",
       "      (conv2): Conv2d(64, 64, kernel_size=(3, 3), stride=(1, 1), padding=(1, 1), bias=False)\n",
       "      (bn2): BatchNorm2d(64, eps=1e-05, momentum=0.1, affine=True, track_running_stats=True)\n",
       "    )\n",
       "    (1): BasicBlock(\n",
       "      (conv1): Conv2d(64, 64, kernel_size=(3, 3), stride=(1, 1), padding=(1, 1), bias=False)\n",
       "      (bn1): BatchNorm2d(64, eps=1e-05, momentum=0.1, affine=True, track_running_stats=True)\n",
       "      (relu): ReLU(inplace=True)\n",
       "      (conv2): Conv2d(64, 64, kernel_size=(3, 3), stride=(1, 1), padding=(1, 1), bias=False)\n",
       "      (bn2): BatchNorm2d(64, eps=1e-05, momentum=0.1, affine=True, track_running_stats=True)\n",
       "    )\n",
       "  )\n",
       "  (layer2): Sequential(\n",
       "    (0): BasicBlock(\n",
       "      (conv1): Conv2d(64, 128, kernel_size=(3, 3), stride=(2, 2), padding=(1, 1), bias=False)\n",
       "      (bn1): BatchNorm2d(128, eps=1e-05, momentum=0.1, affine=True, track_running_stats=True)\n",
       "      (relu): ReLU(inplace=True)\n",
       "      (conv2): Conv2d(128, 128, kernel_size=(3, 3), stride=(1, 1), padding=(1, 1), bias=False)\n",
       "      (bn2): BatchNorm2d(128, eps=1e-05, momentum=0.1, affine=True, track_running_stats=True)\n",
       "      (downsample): Sequential(\n",
       "        (0): Conv2d(64, 128, kernel_size=(1, 1), stride=(2, 2), bias=False)\n",
       "        (1): BatchNorm2d(128, eps=1e-05, momentum=0.1, affine=True, track_running_stats=True)\n",
       "      )\n",
       "    )\n",
       "    (1): BasicBlock(\n",
       "      (conv1): Conv2d(128, 128, kernel_size=(3, 3), stride=(1, 1), padding=(1, 1), bias=False)\n",
       "      (bn1): BatchNorm2d(128, eps=1e-05, momentum=0.1, affine=True, track_running_stats=True)\n",
       "      (relu): ReLU(inplace=True)\n",
       "      (conv2): Conv2d(128, 128, kernel_size=(3, 3), stride=(1, 1), padding=(1, 1), bias=False)\n",
       "      (bn2): BatchNorm2d(128, eps=1e-05, momentum=0.1, affine=True, track_running_stats=True)\n",
       "    )\n",
       "  )\n",
       "  (layer3): Sequential(\n",
       "    (0): BasicBlock(\n",
       "      (conv1): Conv2d(128, 256, kernel_size=(3, 3), stride=(2, 2), padding=(1, 1), bias=False)\n",
       "      (bn1): BatchNorm2d(256, eps=1e-05, momentum=0.1, affine=True, track_running_stats=True)\n",
       "      (relu): ReLU(inplace=True)\n",
       "      (conv2): Conv2d(256, 256, kernel_size=(3, 3), stride=(1, 1), padding=(1, 1), bias=False)\n",
       "      (bn2): BatchNorm2d(256, eps=1e-05, momentum=0.1, affine=True, track_running_stats=True)\n",
       "      (downsample): Sequential(\n",
       "        (0): Conv2d(128, 256, kernel_size=(1, 1), stride=(2, 2), bias=False)\n",
       "        (1): BatchNorm2d(256, eps=1e-05, momentum=0.1, affine=True, track_running_stats=True)\n",
       "      )\n",
       "    )\n",
       "    (1): BasicBlock(\n",
       "      (conv1): Conv2d(256, 256, kernel_size=(3, 3), stride=(1, 1), padding=(1, 1), bias=False)\n",
       "      (bn1): BatchNorm2d(256, eps=1e-05, momentum=0.1, affine=True, track_running_stats=True)\n",
       "      (relu): ReLU(inplace=True)\n",
       "      (conv2): Conv2d(256, 256, kernel_size=(3, 3), stride=(1, 1), padding=(1, 1), bias=False)\n",
       "      (bn2): BatchNorm2d(256, eps=1e-05, momentum=0.1, affine=True, track_running_stats=True)\n",
       "    )\n",
       "  )\n",
       "  (layer4): Sequential(\n",
       "    (0): BasicBlock(\n",
       "      (conv1): Conv2d(256, 512, kernel_size=(3, 3), stride=(2, 2), padding=(1, 1), bias=False)\n",
       "      (bn1): BatchNorm2d(512, eps=1e-05, momentum=0.1, affine=True, track_running_stats=True)\n",
       "      (relu): ReLU(inplace=True)\n",
       "      (conv2): Conv2d(512, 512, kernel_size=(3, 3), stride=(1, 1), padding=(1, 1), bias=False)\n",
       "      (bn2): BatchNorm2d(512, eps=1e-05, momentum=0.1, affine=True, track_running_stats=True)\n",
       "      (downsample): Sequential(\n",
       "        (0): Conv2d(256, 512, kernel_size=(1, 1), stride=(2, 2), bias=False)\n",
       "        (1): BatchNorm2d(512, eps=1e-05, momentum=0.1, affine=True, track_running_stats=True)\n",
       "      )\n",
       "    )\n",
       "    (1): BasicBlock(\n",
       "      (conv1): Conv2d(512, 512, kernel_size=(3, 3), stride=(1, 1), padding=(1, 1), bias=False)\n",
       "      (bn1): BatchNorm2d(512, eps=1e-05, momentum=0.1, affine=True, track_running_stats=True)\n",
       "      (relu): ReLU(inplace=True)\n",
       "      (conv2): Conv2d(512, 512, kernel_size=(3, 3), stride=(1, 1), padding=(1, 1), bias=False)\n",
       "      (bn2): BatchNorm2d(512, eps=1e-05, momentum=0.1, affine=True, track_running_stats=True)\n",
       "    )\n",
       "  )\n",
       "  (avgpool): AdaptiveAvgPool2d(output_size=(1, 1))\n",
       "  (fc): Linear(in_features=512, out_features=5, bias=True)\n",
       ")"
      ]
     },
     "execution_count": 7,
     "metadata": {},
     "output_type": "execute_result"
    }
   ],
   "source": [
    "model_path = 'data/exp-fer_p3_01/'\n",
    "\n",
    "model.load_state_dict(torch.load(os.path.join(model_path, f\"fer-classification-{ARCH_NAME}-model.pth\")))\n",
    "model.to(device)"
   ]
  },
  {
   "cell_type": "markdown",
   "metadata": {
    "id": "tJWQEJXjouk7"
   },
   "source": [
    "### Model Parameters\n",
    "---"
   ]
  },
  {
   "cell_type": "code",
   "execution_count": 8,
   "metadata": {
    "colab": {
     "base_uri": "https://localhost:8080/"
    },
    "executionInfo": {
     "elapsed": 5,
     "status": "ok",
     "timestamp": 1755712326559,
     "user": {
      "displayName": "samuel patricio",
      "userId": "02135325113868995208"
     },
     "user_tz": 180
    },
    "id": "kDa0p3CiMeU1",
    "outputId": "79f97347-8e57-4492-941c-d7142df1625d"
   },
   "outputs": [
    {
     "name": "stdout",
     "output_type": "stream",
     "text": [
      "\n",
      "Total trainable parameters: 11179077\n"
     ]
    }
   ],
   "source": [
    "# Calculate and print the total number of trainable parameters\n",
    "total_trainable_params = sum(p.numel() for p in model.parameters() if p.requires_grad)\n",
    "print(f\"\\nTotal trainable parameters: {total_trainable_params}\")"
   ]
  },
  {
   "cell_type": "markdown",
   "metadata": {
    "id": "wsTHklgHo_S9"
   },
   "source": [
    "### Define data transform"
   ]
  },
  {
   "cell_type": "code",
   "execution_count": 44,
   "metadata": {
    "executionInfo": {
     "elapsed": 5,
     "status": "ok",
     "timestamp": 1755715140308,
     "user": {
      "displayName": "samuel patricio",
      "userId": "02135325113868995208"
     },
     "user_tz": 180
    },
    "id": "J_RO4tZOo2cf"
   },
   "outputs": [],
   "source": [
    "data_transform = transforms.Compose([\n",
    "    # It is necessary to resize the image to match the network's input size.\n",
    "    transforms.Resize(230),\n",
    "    transforms.CenterCrop(224),\n",
    "    transforms.ToTensor(),\n",
    "    # Mean and standard deviation of ImageNet\n",
    "    # These are required as we will use a model pre-trained on ImageNet.\n",
    "    transforms.Normalize([0.485, 0.456, 0.406], [0.229, 0.224, 0.225])\n",
    "])"
   ]
  },
  {
   "cell_type": "markdown",
   "metadata": {
    "id": "duCLj4zQpIBl"
   },
   "source": [
    "### Create Test Loader for Model Inference"
   ]
  },
  {
   "cell_type": "code",
   "execution_count": 45,
   "metadata": {
    "executionInfo": {
     "elapsed": 3,
     "status": "ok",
     "timestamp": 1755715142729,
     "user": {
      "displayName": "samuel patricio",
      "userId": "02135325113868995208"
     },
     "user_tz": 180
    },
    "id": "H_o9M5TtpV7l"
   },
   "outputs": [],
   "source": [
    "if IN_COLAB:\n",
    "  ds_path = '/content/drive/My Drive/Data/faces-emotion-recognition/faces/'\n",
    "else:\n",
    "  ds_path = '/home/'"
   ]
  },
  {
   "cell_type": "code",
   "execution_count": 46,
   "metadata": {
    "executionInfo": {
     "elapsed": 69,
     "status": "ok",
     "timestamp": 1755715143861,
     "user": {
      "displayName": "samuel patricio",
      "userId": "02135325113868995208"
     },
     "user_tz": 180
    },
    "id": "OuvyYbKVpFIJ"
   },
   "outputs": [],
   "source": [
    "batch_size = 64\n",
    "test_set = datasets.ImageFolder(ds_path+'test', transform=data_transform)\n",
    "test_loader = torch.utils.data.DataLoader(test_set, batch_size=batch_size, shuffle=True, num_workers=2)"
   ]
  },
  {
   "cell_type": "code",
   "execution_count": 47,
   "metadata": {
    "executionInfo": {
     "elapsed": 6,
     "status": "ok",
     "timestamp": 1755715144825,
     "user": {
      "displayName": "samuel patricio",
      "userId": "02135325113868995208"
     },
     "user_tz": 180
    },
    "id": "qW8ATBmGu4dH"
   },
   "outputs": [],
   "source": [
    "classes = test_set.classes"
   ]
  },
  {
   "cell_type": "markdown",
   "metadata": {
    "id": "A3rkZeEamgg7"
   },
   "source": [
    "### GPU Pre-Heating"
   ]
  },
  {
   "cell_type": "code",
   "execution_count": 17,
   "metadata": {
    "executionInfo": {
     "elapsed": 167,
     "status": "ok",
     "timestamp": 1755713231869,
     "user": {
      "displayName": "samuel patricio",
      "userId": "02135325113868995208"
     },
     "user_tz": 180
    },
    "id": "H_njpp6tqD7D"
   },
   "outputs": [],
   "source": [
    "# Pré-aquecimento da GPU (só se tiver CUDA disponível)\n",
    "if device.type == \"cuda\":\n",
    "    with torch.no_grad():\n",
    "        dummy = torch.randn(1, 3, 224, 224, device=device)\n",
    "        _ = model(dummy)"
   ]
  },
  {
   "cell_type": "markdown",
   "metadata": {
    "id": "LG6vB8D6qPcz"
   },
   "source": [
    "### Model Test\n",
    "---"
   ]
  },
  {
   "cell_type": "code",
   "execution_count": 18,
   "metadata": {
    "colab": {
     "base_uri": "https://localhost:8080/"
    },
    "executionInfo": {
     "elapsed": 939489,
     "status": "ok",
     "timestamp": 1755714172707,
     "user": {
      "displayName": "samuel patricio",
      "userId": "02135325113868995208"
     },
     "user_tz": 180
    },
    "id": "99jd8u90mgDJ",
    "outputId": "7196bc09-45eb-41f0-85fb-7f3ffd7a2cec"
   },
   "outputs": [
    {
     "name": "stderr",
     "output_type": "stream",
     "text": [
      "100%|██████████| 50/50 [15:39<00:00, 18.79s/it]\n"
     ]
    }
   ],
   "source": [
    "labels_true = []\n",
    "labels_pred = []\n",
    "\n",
    "model.eval()\n",
    "\n",
    "with torch.no_grad():\n",
    "  for images, labels in tqdm(test_loader):\n",
    "    images, labels = images.to(device), labels.to(device)\n",
    "\n",
    "    outputs = model(images)\n",
    "\n",
    "    # pred = outputs.data.max(1, keepdim=True)[1]\n",
    "\n",
    "    labels_pred.extend(outputs.cpu().numpy())\n",
    "    labels_true.extend(labels.cpu().numpy())\n",
    "\n",
    "labels_pred = np.array(labels_pred)\n",
    "labels_true = np.array(labels_true)"
   ]
  },
  {
   "cell_type": "markdown",
   "metadata": {
    "id": "O62k7GdIvgqq"
   },
   "source": [
    "### Confusion Matrix\n",
    "---"
   ]
  },
  {
   "cell_type": "code",
   "execution_count": 26,
   "metadata": {
    "colab": {
     "base_uri": "https://localhost:8080/"
    },
    "executionInfo": {
     "elapsed": 16,
     "status": "ok",
     "timestamp": 1755714370936,
     "user": {
      "displayName": "samuel patricio",
      "userId": "02135325113868995208"
     },
     "user_tz": 180
    },
    "id": "t037M-FVuJBW",
    "outputId": "d008612e-57b2-48a5-cd6a-bdd70fa7f141"
   },
   "outputs": [
    {
     "name": "stdout",
     "output_type": "stream",
     "text": [
      "True Labels:  [4 0 0 1 2 0 3 1 0 4]\n",
      "True Labels:  [1 1 0 1 2 0 3 1 0 4]\n"
     ]
    }
   ],
   "source": [
    "# Get the index of max probabilities\n",
    "labels_pred_argmax = np.argmax(labels_pred, axis=1)\n",
    "print(\"True Labels: \", labels_true[:10])\n",
    "print(\"True Labels: \", labels_pred_argmax[:10])"
   ]
  },
  {
   "cell_type": "code",
   "execution_count": 38,
   "metadata": {
    "colab": {
     "base_uri": "https://localhost:8080/"
    },
    "executionInfo": {
     "elapsed": 10,
     "status": "ok",
     "timestamp": 1755714859970,
     "user": {
      "displayName": "samuel patricio",
      "userId": "02135325113868995208"
     },
     "user_tz": 180
    },
    "id": "765F9hXewjbi",
    "outputId": "6e5ba4b1-2e34-470c-b12b-8f0e7e4759a7"
   },
   "outputs": [
    {
     "name": "stdout",
     "output_type": "stream",
     "text": [
      "Confusion Matrix\n",
      "[[271  47  11  35  54]\n",
      " [ 74 430  29  88 102]\n",
      " [ 14  16 790  56  15]\n",
      " [ 24  29  50 337  79]\n",
      " [ 62  97  30  94 336]]\n"
     ]
    }
   ],
   "source": [
    "cm = metrics.confusion_matrix(labels_true, labels_pred_argmax)\n",
    "print(\"Confusion Matrix\")\n",
    "print(cm)"
   ]
  },
  {
   "cell_type": "code",
   "execution_count": 39,
   "metadata": {
    "colab": {
     "base_uri": "https://localhost:8080/",
     "height": 453
    },
    "executionInfo": {
     "elapsed": 917,
     "status": "ok",
     "timestamp": 1755714868060,
     "user": {
      "displayName": "samuel patricio",
      "userId": "02135325113868995208"
     },
     "user_tz": 180
    },
    "id": "5NoX5kHXuduv",
    "outputId": "1c403e4e-ff05-4f69-8c1e-76623cfdd15a"
   },
   "outputs": [
    {
     "data": {
      "image/png": "[encoded data removed]",
      "text/plain": [
       "<Figure size 640x480 with 2 Axes>"
      ]
     },
     "metadata": {},
     "output_type": "display_data"
    }
   ],
   "source": [
    "sns.heatmap(cm,\n",
    "            annot=True,\n",
    "            fmt='g',\n",
    "            xticklabels=classes,\n",
    "            yticklabels=classes)\n",
    "plt.ylabel('Actual', fontsize=13)\n",
    "plt.title('Confusion Matrix', fontsize=17, pad=20)\n",
    "plt.gca().xaxis.set_label_position('top')\n",
    "plt.xlabel('Prediction', fontsize=13)\n",
    "plt.gca().xaxis.tick_top()\n",
    "\n",
    "plt.gca().figure.subplots_adjust(bottom=0.2)\n",
    "plt.show()"
   ]
  },
  {
   "cell_type": "markdown",
   "metadata": {
    "id": "dxnJ7zZwwyoq"
   },
   "source": [
    "### Classification Report\n",
    "---"
   ]
  },
  {
   "cell_type": "code",
   "execution_count": 42,
   "metadata": {
    "colab": {
     "base_uri": "https://localhost:8080/"
    },
    "executionInfo": {
     "elapsed": 69,
     "status": "ok",
     "timestamp": 1755715041021,
     "user": {
      "displayName": "samuel patricio",
      "userId": "02135325113868995208"
     },
     "user_tz": 180
    },
    "id": "_RL1A2xTw2M8",
    "outputId": "16550256-2782-4cb7-b74b-99102fabeaa2"
   },
   "outputs": [
    {
     "name": "stdout",
     "output_type": "stream",
     "text": [
      "Classification Report\n",
      "              precision    recall  f1-score   support\n",
      "\n",
      "       angry       0.61      0.65      0.63       418\n",
      "        fear       0.69      0.59      0.64       723\n",
      "       happy       0.87      0.89      0.88       891\n",
      "     neutral       0.55      0.65      0.60       519\n",
      "         sad       0.57      0.54      0.56       619\n",
      "\n",
      "    accuracy                           0.68      3170\n",
      "   macro avg       0.66      0.66      0.66      3170\n",
      "weighted avg       0.69      0.68      0.68      3170\n",
      "\n"
     ]
    }
   ],
   "source": [
    "cr = metrics.classification_report(y_true=labels_true, y_pred=labels_pred_argmax, target_names=classes)\n",
    "print(\"Classification Report\")\n",
    "print(cr)"
   ]
  },
  {
   "cell_type": "markdown",
   "metadata": {
    "id": "CKKI5GpJxa4k"
   },
   "source": [
    "### Image Inference\n",
    "---"
   ]
  },
  {
   "cell_type": "code",
   "execution_count": 48,
   "metadata": {
    "executionInfo": {
     "elapsed": 16,
     "status": "ok",
     "timestamp": 1755715148887,
     "user": {
      "displayName": "samuel patricio",
      "userId": "02135325113868995208"
     },
     "user_tz": 180
    },
    "id": "MPsFeZDebkKI"
   },
   "outputs": [],
   "source": [
    "# Load your image\n",
    "image_url = \"https://i.guim.co.uk/img/static/sys-images/Guardian/Pix/pictures/2008/06/15/fear460.jpg?width=465&dpr=1&s=none&crop=none\"\n",
    "# image = Image.open(image_path).convert(\"RGB\") # Ensure RGB format\n",
    "image = Image.open(requests.get(image_url, stream=True).raw)\n",
    "\n",
    "# Apply the transform\n",
    "transformed_image = data_transform(image)\n",
    "\n",
    "# Add a batch dimension if your model expects batched input\n",
    "# (e.g., for a single image, shape will be [1, C, H, W])\n",
    "input_tensor = transformed_image.unsqueeze(0)"
   ]
  },
  {
   "cell_type": "code",
   "execution_count": 49,
   "metadata": {
    "colab": {
     "base_uri": "https://localhost:8080/"
    },
    "executionInfo": {
     "elapsed": 15,
     "status": "ok",
     "timestamp": 1755715151003,
     "user": {
      "displayName": "samuel patricio",
      "userId": "02135325113868995208"
     },
     "user_tz": 180
    },
    "id": "Iu2Vi38CcoPs",
    "outputId": "e8b58d5b-c037-4681-fdb8-4d7c270271de"
   },
   "outputs": [
    {
     "data": {
      "text/plain": [
       "torch.Size([1, 3, 224, 224])"
      ]
     },
     "execution_count": 49,
     "metadata": {},
     "output_type": "execute_result"
    }
   ],
   "source": [
    "input_tensor.shape"
   ]
  },
  {
   "cell_type": "code",
   "execution_count": 50,
   "metadata": {
    "executionInfo": {
     "elapsed": 3,
     "status": "ok",
     "timestamp": 1755715152185,
     "user": {
      "displayName": "samuel patricio",
      "userId": "02135325113868995208"
     },
     "user_tz": 180
    },
    "id": "l03C83wGdTJk"
   },
   "outputs": [],
   "source": [
    "input_tensor = input_tensor.to(device)"
   ]
  },
  {
   "cell_type": "code",
   "execution_count": 51,
   "metadata": {
    "executionInfo": {
     "elapsed": 4,
     "status": "ok",
     "timestamp": 1755715152875,
     "user": {
      "displayName": "samuel patricio",
      "userId": "02135325113868995208"
     },
     "user_tz": 180
    },
    "id": "65wVDT4mahSP"
   },
   "outputs": [],
   "source": [
    "class_mapping = [\n",
    "    \"angry\",\n",
    "    \"fear\",\n",
    "    \"happy\",\n",
    "    \"neutral\",\n",
    "    \"sad\"\n",
    "]"
   ]
  },
  {
   "cell_type": "code",
   "execution_count": 52,
   "metadata": {
    "colab": {
     "base_uri": "https://localhost:8080/"
    },
    "executionInfo": {
     "elapsed": 477,
     "status": "ok",
     "timestamp": 1755715155582,
     "user": {
      "displayName": "samuel patricio",
      "userId": "02135325113868995208"
     },
     "user_tz": 180
    },
    "id": "5wwd_pgGcYYi",
    "outputId": "95c29747-b858-45e1-d3fd-14c642e6747e"
   },
   "outputs": [
    {
     "name": "stdout",
     "output_type": "stream",
     "text": [
      "tensor([[-3.0468,  7.3649, -6.8456, -7.2370, -9.1667]], device='cuda:0')\n",
      "Predicted class: fear\n"
     ]
    }
   ],
   "source": [
    "model.eval()\n",
    "with torch.no_grad():\n",
    "    output = model(input_tensor)\n",
    "    predicted_index = torch.argmax(output, dim=1).item()\n",
    "\n",
    "    print(output)\n",
    "print(\"Predicted class:\", class_mapping[predicted_index])"
   ]
  },
  {
   "cell_type": "code",
   "execution_count": null,
   "metadata": {
    "id": "kAQ7xoctdbWG"
   },
   "outputs": [],
   "source": []
  }
 ],
 "metadata": {
  "accelerator": "GPU",
  "colab": {
   "authorship_tag": "ABX9TyPkYUL60FDtTHhP9KJx7XXh",
   "gpuType": "T4",
   "provenance": []
  },
  "kernelspec": {
   "display_name": "Python 3",
   "name": "python3"
  },
  "language_info": {
   "name": "python"
  }
 },
 "nbformat": 4,
 "nbformat_minor": 0
}
