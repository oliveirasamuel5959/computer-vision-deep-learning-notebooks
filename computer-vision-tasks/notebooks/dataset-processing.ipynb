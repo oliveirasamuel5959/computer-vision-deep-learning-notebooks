{
 "cells": [
  {
   "cell_type": "markdown",
   "metadata": {},
   "source": [
    "### Import Required Libraries\n",
    "---"
   ]
  },
  {
   "cell_type": "code",
   "execution_count": 6,
   "metadata": {
    "executionInfo": {
     "elapsed": 9,
     "status": "ok",
     "timestamp": 1755302885517,
     "user": {
      "displayName": "samuel patricio",
      "userId": "02135325113868995208"
     },
     "user_tz": 180
    },
    "id": "jZE6R22k0PtE"
   },
   "outputs": [],
   "source": [
    "import os\n",
    "import csv\n",
    "import glob\n",
    "import numpy as np\n",
    "import matplotlib.pyplot as plt\n",
    "import cv2\n",
    "from tqdm import tqdm\n",
    "\n",
    "from sklearn.model_selection import train_test_split"
   ]
  },
  {
   "cell_type": "markdown",
   "metadata": {},
   "source": [
    "### Host or Colab Connection\n",
    "---"
   ]
  },
  {
   "cell_type": "code",
   "execution_count": 2,
   "metadata": {
    "colab": {
     "base_uri": "https://localhost:8080/"
    },
    "executionInfo": {
     "elapsed": 21521,
     "status": "ok",
     "timestamp": 1755296464187,
     "user": {
      "displayName": "samuel patricio",
      "userId": "02135325113868995208"
     },
     "user_tz": 180
    },
    "id": "by_sW14g0flv",
    "outputId": "da2bd6bd-13b9-4c0d-cef0-7fa0719b5cd9"
   },
   "outputs": [
    {
     "name": "stdout",
     "output_type": "stream",
     "text": [
      "False\n"
     ]
    }
   ],
   "source": [
    "try:\n",
    "  import google.colab\n",
    "  IN_COLAB = True\n",
    "except:\n",
    "  IN_COLAB = False\n",
    "\n",
    "# Debug\n",
    "print(IN_COLAB)\n",
    "if IN_COLAB:\n",
    "  from google.colab import drive\n",
    "  drive.mount('/content/drive')"
   ]
  },
  {
   "cell_type": "code",
   "execution_count": 3,
   "metadata": {
    "executionInfo": {
     "elapsed": 3,
     "status": "ok",
     "timestamp": 1755297917399,
     "user": {
      "displayName": "samuel patricio",
      "userId": "02135325113868995208"
     },
     "user_tz": 180
    },
    "id": "dTqkhDcR0ihl"
   },
   "outputs": [
    {
     "data": {
      "text/plain": [
       "'data/dataset-source/'"
      ]
     },
     "execution_count": 3,
     "metadata": {},
     "output_type": "execute_result"
    }
   ],
   "source": [
    "if IN_COLAB:\n",
    "  ds_path = '/content/drive/My Drive/projeto/dataset-article/dataset-64/'\n",
    "else:\n",
    "  ds_path = 'data/dataset-source/'\n",
    "\n",
    "ds_path"
   ]
  },
  {
   "cell_type": "markdown",
   "metadata": {},
   "source": [
    "### Function to generate csv file \n",
    "---"
   ]
  },
  {
   "cell_type": "code",
   "execution_count": 22,
   "metadata": {},
   "outputs": [],
   "source": [
    "def np_zero_image():\n",
    "    for i, image in enumerate(glob.glob(f\"{ds_path}/normal/image/*jpg\")):\n",
    "      # read image in numpy array format\n",
    "      img = cv2.imread(image)\n",
    "      \n",
    "      # zero all pixels values image shape is (w, h, c)\n",
    "      # convert image to black\n",
    "      img = np.zeros(img.shape)\n",
    "      \n",
    "      # define the path to write the image\n",
    "      out_path = os.path.join(f\"{ds_path}/normal/label/\", f\"{i+1}.jpg\")\n",
    "      cv2.imwrite(out_path,  img)\n",
    "        \n",
    "np_zero_image()"
   ]
  },
  {
   "cell_type": "code",
   "execution_count": 4,
   "metadata": {
    "executionInfo": {
     "elapsed": 42,
     "status": "ok",
     "timestamp": 1755303490747,
     "user": {
      "displayName": "samuel patricio",
      "userId": "02135325113868995208"
     },
     "user_tz": 180
    },
    "id": "oJgaEh1W7Zoo"
   },
   "outputs": [],
   "source": [
    "def csv_for_kfold(mode, num_folds, data):\n",
    "  \n",
    "  file_path = f\"{ds_path}/{mode}{num_folds}.csv\"\n",
    "  fields = [\"filepath\", \"label\"]\n",
    "\n",
    "  write_header = not os.path.exists(file_path)\n",
    "\n",
    "  with open(file_path, 'a', newline='') as file:\n",
    "      writer = csv.DictWriter(file, fieldnames=fields)\n",
    "\n",
    "      if write_header:\n",
    "        writer.writeheader()\n",
    "\n",
    "      writer.writerow(data)"
   ]
  },
  {
   "cell_type": "code",
   "execution_count": 5,
   "metadata": {
    "colab": {
     "base_uri": "https://localhost:8080/"
    },
    "executionInfo": {
     "elapsed": 8,
     "status": "ok",
     "timestamp": 1755303491813,
     "user": {
      "displayName": "samuel patricio",
      "userId": "02135325113868995208"
     },
     "user_tz": 180
    },
    "id": "53GV9rN58BBt",
    "outputId": "86cb4d56-eecf-467d-d8aa-0a1d714552b4"
   },
   "outputs": [
    {
     "name": "stdout",
     "output_type": "stream",
     "text": [
      "dataset-article\\with-stone\n"
     ]
    }
   ],
   "source": [
    "relative_path = os.path.relpath('/content/drive/My Drive/projeto/dataset-article/with-stone/', '/content/drive/My Drive/projeto/')\n",
    "print(relative_path)"
   ]
  },
  {
   "cell_type": "markdown",
   "metadata": {},
   "source": [
    "### Function to create the dataset \n",
    "### X: features     y: labels\n",
    "---"
   ]
  },
  {
   "cell_type": "code",
   "execution_count": 6,
   "metadata": {
    "executionInfo": {
     "elapsed": 41,
     "status": "ok",
     "timestamp": 1755303492060,
     "user": {
      "displayName": "samuel patricio",
      "userId": "02135325113868995208"
     },
     "user_tz": 180
    },
    "id": "evLU2dzh18Zu"
   },
   "outputs": [],
   "source": [
    "def datasets_gen(ds_path):\n",
    "  # store relative image file path\n",
    "  X = []\n",
    "  # store labels with-stone=1 and without-stone=0\n",
    "  y = []\n",
    "\n",
    "  for label_path in os.listdir(ds_path):\n",
    "    # get labels from images folder\n",
    "    label = 1 if label_path == 'with-stone' else 0\n",
    "\n",
    "    # iterate over each file in the dataset\n",
    "    for image_path in glob.glob(f\"{ds_path}/{label_path}/*png\"):\n",
    "      rel_path = os.path.relpath(image_path, ds_path)\n",
    "\n",
    "      X.append(rel_path)\n",
    "      y.append(label)\n",
    "\n",
    "  return X, y"
   ]
  },
  {
   "cell_type": "code",
   "execution_count": 7,
   "metadata": {
    "executionInfo": {
     "elapsed": 9,
     "status": "ok",
     "timestamp": 1755303493205,
     "user": {
      "displayName": "samuel patricio",
      "userId": "02135325113868995208"
     },
     "user_tz": 180
    },
    "id": "ER4W5qpR2iDZ"
   },
   "outputs": [],
   "source": [
    "X, y = datasets_gen(ds_path)"
   ]
  },
  {
   "cell_type": "markdown",
   "metadata": {},
   "source": [
    "### Function to split the dataset into train and validation data\n",
    "### Train and validation for each kfold\n",
    "---"
   ]
  },
  {
   "cell_type": "code",
   "execution_count": null,
   "metadata": {
    "executionInfo": {
     "elapsed": 6,
     "status": "ok",
     "timestamp": 1755303515599,
     "user": {
      "displayName": "samuel patricio",
      "userId": "02135325113868995208"
     },
     "user_tz": 180
    },
    "id": "e4KU_75CKS3A"
   },
   "outputs": [],
   "source": [
    "def datasets_gen_kfold(X, y, num_folds):\n",
    "  \n",
    "  for num_folds in range(num_folds):\n",
    "\n",
    "    X_train, X_val, y_train, y_val = train_test_split(X, y, train_size=0.8, stratify=y)\n",
    "\n",
    "    data = {}\n",
    "\n",
    "    # csv file for train data\n",
    "    for feature, label in tqdm(zip(X_train, y_train), desc=f'Processing data for {num_folds+1} folds'):\n",
    "\n",
    "      data['filepath'] = feature\n",
    "      data['label'] = label\n",
    "\n",
    "      csv_for_kfold(mode='train', num_folds=num_folds, data=data)\n",
    "\n",
    "    # csv file for validation data\n",
    "    for feature, label in zip(X_val, y_val):\n",
    "\n",
    "      data['filepath'] = feature\n",
    "      data['label'] = label\n",
    "\n",
    "      csv_for_kfold(mode='val', num_folds=num_folds, data=data)"
   ]
  },
  {
   "cell_type": "code",
   "execution_count": 25,
   "metadata": {
    "colab": {
     "base_uri": "https://localhost:8080/"
    },
    "executionInfo": {
     "elapsed": 415,
     "status": "ok",
     "timestamp": 1755303516685,
     "user": {
      "displayName": "samuel patricio",
      "userId": "02135325113868995208"
     },
     "user_tz": 180
    },
    "id": "2HbSusMFKY4r",
    "outputId": "b224707e-938f-4475-94df-e7f22c772216"
   },
   "outputs": [
    {
     "name": "stderr",
     "output_type": "stream",
     "text": [
      "Processing data 1 kfolds: 25it [00:00, 1611.98it/s]\n",
      "Processing data 2 kfolds: 25it [00:00, 1566.44it/s]\n"
     ]
    }
   ],
   "source": [
    "datasets_gen_kfold(X, y, num_folds=2)"
   ]
  },
  {
   "cell_type": "code",
   "execution_count": null,
   "metadata": {
    "id": "FxAInVOxNqak"
   },
   "outputs": [],
   "source": []
  }
 ],
 "metadata": {
  "colab": {
   "authorship_tag": "ABX9TyNKOe4YObNFRb6CgykWBKW1",
   "provenance": []
  },
  "kernelspec": {
   "display_name": ".venv",
   "language": "python",
   "name": "python3"
  },
  "language_info": {
   "codemirror_mode": {
    "name": "ipython",
    "version": 3
   },
   "file_extension": ".py",
   "mimetype": "text/x-python",
   "name": "python",
   "nbconvert_exporter": "python",
   "pygments_lexer": "ipython3",
   "version": "3.10.0"
  }
 },
 "nbformat": 4,
 "nbformat_minor": 0
}
